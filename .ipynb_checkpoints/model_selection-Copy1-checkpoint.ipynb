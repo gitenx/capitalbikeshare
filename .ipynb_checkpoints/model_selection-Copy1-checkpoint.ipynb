{
 "cells": [
  {
   "cell_type": "markdown",
   "metadata": {},
   "source": [
    "### Final Project JC-DS Batch 6 Purwadhika Kampus Jakarta\n",
    "\n",
    "#### Model Selection\n",
    "\n",
    "by Nur Wibowo\n",
    "\n",
    "-------"
   ]
  },
  {
   "cell_type": "code",
   "execution_count": 1,
   "metadata": {
    "ExecuteTime": {
     "end_time": "2019-11-12T16:06:51.186942Z",
     "start_time": "2019-11-12T16:06:46.898148Z"
    }
   },
   "outputs": [],
   "source": [
    "import pandas as pd\n",
    "import numpy as np\n",
    "import matplotlib.pyplot as plt\n",
    "import seaborn as sb\n",
    "import warnings\n",
    "warnings.filterwarnings('ignore')"
   ]
  },
  {
   "cell_type": "markdown",
   "metadata": {},
   "source": [
    "#### load dataset"
   ]
  },
  {
   "cell_type": "code",
   "execution_count": 26,
   "metadata": {
    "ExecuteTime": {
     "end_time": "2019-11-12T17:11:12.247262Z",
     "start_time": "2019-11-12T17:11:12.228279Z"
    }
   },
   "outputs": [],
   "source": [
    "df = pd.read_csv('data/dataset_capitalbikesharing.csv', parse_dates=['date'])"
   ]
  },
  {
   "cell_type": "code",
   "execution_count": 27,
   "metadata": {
    "ExecuteTime": {
     "end_time": "2019-11-12T17:11:13.096948Z",
     "start_time": "2019-11-12T17:11:13.092974Z"
    }
   },
   "outputs": [
    {
     "data": {
      "text/plain": [
       "Index(['date', 'month', 'year', 'holiday', 'workingday', 'weekday', 'season',\n",
       "       'temperature', 'windspeed', 'humidity', 'casual', 'member', 'total'],\n",
       "      dtype='object')"
      ]
     },
     "execution_count": 27,
     "metadata": {},
     "output_type": "execute_result"
    }
   ],
   "source": [
    "df.columns"
   ]
  },
  {
   "cell_type": "code",
   "execution_count": 28,
   "metadata": {
    "ExecuteTime": {
     "end_time": "2019-11-12T17:11:13.941743Z",
     "start_time": "2019-11-12T17:11:13.934717Z"
    }
   },
   "outputs": [
    {
     "name": "stdout",
     "output_type": "stream",
     "text": [
      "<class 'pandas.core.frame.DataFrame'>\n",
      "RangeIndex: 3318 entries, 0 to 3317\n",
      "Data columns (total 13 columns):\n",
      "date           3318 non-null datetime64[ns]\n",
      "month          3318 non-null int64\n",
      "year           3318 non-null int64\n",
      "holiday        3318 non-null int64\n",
      "workingday     3318 non-null int64\n",
      "weekday        3318 non-null int64\n",
      "season         3318 non-null int64\n",
      "temperature    3318 non-null int64\n",
      "windspeed      3318 non-null int64\n",
      "humidity       3318 non-null float64\n",
      "casual         3318 non-null int64\n",
      "member         3318 non-null int64\n",
      "total          3318 non-null int64\n",
      "dtypes: datetime64[ns](1), float64(1), int64(11)\n",
      "memory usage: 337.1 KB\n"
     ]
    }
   ],
   "source": [
    "df.info()"
   ]
  },
  {
   "cell_type": "markdown",
   "metadata": {},
   "source": [
    "#### preprocessing"
   ]
  },
  {
   "cell_type": "code",
   "execution_count": 29,
   "metadata": {
    "ExecuteTime": {
     "end_time": "2019-11-12T17:11:21.528444Z",
     "start_time": "2019-11-12T17:11:21.525419Z"
    }
   },
   "outputs": [],
   "source": [
    "dfpp = df.copy()"
   ]
  },
  {
   "cell_type": "code",
   "execution_count": 30,
   "metadata": {
    "ExecuteTime": {
     "end_time": "2019-11-12T17:11:22.407567Z",
     "start_time": "2019-11-12T17:11:22.398541Z"
    }
   },
   "outputs": [
    {
     "data": {
      "text/html": [
       "<div>\n",
       "<style scoped>\n",
       "    .dataframe tbody tr th:only-of-type {\n",
       "        vertical-align: middle;\n",
       "    }\n",
       "\n",
       "    .dataframe tbody tr th {\n",
       "        vertical-align: top;\n",
       "    }\n",
       "\n",
       "    .dataframe thead th {\n",
       "        text-align: right;\n",
       "    }\n",
       "</style>\n",
       "<table border=\"1\" class=\"dataframe\">\n",
       "  <thead>\n",
       "    <tr style=\"text-align: right;\">\n",
       "      <th></th>\n",
       "      <th>date</th>\n",
       "      <th>month</th>\n",
       "      <th>year</th>\n",
       "      <th>holiday</th>\n",
       "      <th>workingday</th>\n",
       "      <th>weekday</th>\n",
       "      <th>season</th>\n",
       "      <th>temperature</th>\n",
       "      <th>windspeed</th>\n",
       "      <th>humidity</th>\n",
       "      <th>casual</th>\n",
       "      <th>member</th>\n",
       "      <th>total</th>\n",
       "    </tr>\n",
       "  </thead>\n",
       "  <tbody>\n",
       "    <tr>\n",
       "      <th>0</th>\n",
       "      <td>2010-09-20</td>\n",
       "      <td>9</td>\n",
       "      <td>2010</td>\n",
       "      <td>0</td>\n",
       "      <td>1</td>\n",
       "      <td>0</td>\n",
       "      <td>3</td>\n",
       "      <td>23</td>\n",
       "      <td>17</td>\n",
       "      <td>0.47</td>\n",
       "      <td>34</td>\n",
       "      <td>178</td>\n",
       "      <td>212</td>\n",
       "    </tr>\n",
       "    <tr>\n",
       "      <th>1</th>\n",
       "      <td>2010-09-21</td>\n",
       "      <td>9</td>\n",
       "      <td>2010</td>\n",
       "      <td>0</td>\n",
       "      <td>1</td>\n",
       "      <td>1</td>\n",
       "      <td>3</td>\n",
       "      <td>20</td>\n",
       "      <td>10</td>\n",
       "      <td>0.52</td>\n",
       "      <td>109</td>\n",
       "      <td>215</td>\n",
       "      <td>324</td>\n",
       "    </tr>\n",
       "    <tr>\n",
       "      <th>2</th>\n",
       "      <td>2010-09-22</td>\n",
       "      <td>9</td>\n",
       "      <td>2010</td>\n",
       "      <td>0</td>\n",
       "      <td>1</td>\n",
       "      <td>2</td>\n",
       "      <td>3</td>\n",
       "      <td>26</td>\n",
       "      <td>15</td>\n",
       "      <td>0.60</td>\n",
       "      <td>117</td>\n",
       "      <td>260</td>\n",
       "      <td>377</td>\n",
       "    </tr>\n",
       "    <tr>\n",
       "      <th>3</th>\n",
       "      <td>2010-09-23</td>\n",
       "      <td>9</td>\n",
       "      <td>2010</td>\n",
       "      <td>0</td>\n",
       "      <td>1</td>\n",
       "      <td>3</td>\n",
       "      <td>3</td>\n",
       "      <td>27</td>\n",
       "      <td>8</td>\n",
       "      <td>0.64</td>\n",
       "      <td>124</td>\n",
       "      <td>249</td>\n",
       "      <td>373</td>\n",
       "    </tr>\n",
       "    <tr>\n",
       "      <th>4</th>\n",
       "      <td>2010-09-24</td>\n",
       "      <td>9</td>\n",
       "      <td>2010</td>\n",
       "      <td>0</td>\n",
       "      <td>1</td>\n",
       "      <td>4</td>\n",
       "      <td>3</td>\n",
       "      <td>29</td>\n",
       "      <td>15</td>\n",
       "      <td>0.60</td>\n",
       "      <td>156</td>\n",
       "      <td>206</td>\n",
       "      <td>362</td>\n",
       "    </tr>\n",
       "  </tbody>\n",
       "</table>\n",
       "</div>"
      ],
      "text/plain": [
       "        date  month  year  holiday  workingday  weekday  season  temperature  \\\n",
       "0 2010-09-20      9  2010        0           1        0       3           23   \n",
       "1 2010-09-21      9  2010        0           1        1       3           20   \n",
       "2 2010-09-22      9  2010        0           1        2       3           26   \n",
       "3 2010-09-23      9  2010        0           1        3       3           27   \n",
       "4 2010-09-24      9  2010        0           1        4       3           29   \n",
       "\n",
       "   windspeed  humidity  casual  member  total  \n",
       "0         17      0.47      34     178    212  \n",
       "1         10      0.52     109     215    324  \n",
       "2         15      0.60     117     260    377  \n",
       "3          8      0.64     124     249    373  \n",
       "4         15      0.60     156     206    362  "
      ]
     },
     "execution_count": 30,
     "metadata": {},
     "output_type": "execute_result"
    }
   ],
   "source": [
    "dfpp.head()"
   ]
  },
  {
   "cell_type": "code",
   "execution_count": 31,
   "metadata": {
    "ExecuteTime": {
     "end_time": "2019-11-12T17:11:24.337409Z",
     "start_time": "2019-11-12T17:11:24.334407Z"
    }
   },
   "outputs": [],
   "source": [
    "# drop casual and member feature\n",
    "dfpp = dfpp.drop(['casual', 'member'], axis=1)"
   ]
  },
  {
   "cell_type": "code",
   "execution_count": 32,
   "metadata": {
    "ExecuteTime": {
     "end_time": "2019-11-12T17:11:26.521661Z",
     "start_time": "2019-11-12T17:11:26.517642Z"
    }
   },
   "outputs": [
    {
     "data": {
      "text/plain": [
       "Index(['date', 'month', 'year', 'holiday', 'workingday', 'weekday', 'season',\n",
       "       'temperature', 'windspeed', 'humidity', 'total'],\n",
       "      dtype='object')"
      ]
     },
     "execution_count": 32,
     "metadata": {},
     "output_type": "execute_result"
    }
   ],
   "source": [
    "dfpp.columns"
   ]
  },
  {
   "cell_type": "code",
   "execution_count": 33,
   "metadata": {
    "ExecuteTime": {
     "end_time": "2019-11-12T17:11:30.230568Z",
     "start_time": "2019-11-12T17:11:30.205569Z"
    }
   },
   "outputs": [],
   "source": [
    "# encoding categorical\n",
    "list_cat = ['month', 'year', 'holiday', 'workingday', 'weekday', 'season']\n",
    "\n",
    "for i in list_cat:\n",
    "    dfpp = pd.get_dummies(dfpp, columns=[i], drop_first=True)\n",
    "    "
   ]
  },
  {
   "cell_type": "code",
   "execution_count": 34,
   "metadata": {
    "ExecuteTime": {
     "end_time": "2019-11-12T17:11:31.446115Z",
     "start_time": "2019-11-12T17:11:31.429107Z"
    }
   },
   "outputs": [
    {
     "data": {
      "text/html": [
       "<div>\n",
       "<style scoped>\n",
       "    .dataframe tbody tr th:only-of-type {\n",
       "        vertical-align: middle;\n",
       "    }\n",
       "\n",
       "    .dataframe tbody tr th {\n",
       "        vertical-align: top;\n",
       "    }\n",
       "\n",
       "    .dataframe thead th {\n",
       "        text-align: right;\n",
       "    }\n",
       "</style>\n",
       "<table border=\"1\" class=\"dataframe\">\n",
       "  <thead>\n",
       "    <tr style=\"text-align: right;\">\n",
       "      <th></th>\n",
       "      <th>date</th>\n",
       "      <th>temperature</th>\n",
       "      <th>windspeed</th>\n",
       "      <th>humidity</th>\n",
       "      <th>total</th>\n",
       "      <th>month_2</th>\n",
       "      <th>month_3</th>\n",
       "      <th>month_4</th>\n",
       "      <th>month_5</th>\n",
       "      <th>month_6</th>\n",
       "      <th>...</th>\n",
       "      <th>workingday_1</th>\n",
       "      <th>weekday_1</th>\n",
       "      <th>weekday_2</th>\n",
       "      <th>weekday_3</th>\n",
       "      <th>weekday_4</th>\n",
       "      <th>weekday_5</th>\n",
       "      <th>weekday_6</th>\n",
       "      <th>season_2</th>\n",
       "      <th>season_3</th>\n",
       "      <th>season_4</th>\n",
       "    </tr>\n",
       "  </thead>\n",
       "  <tbody>\n",
       "    <tr>\n",
       "      <th>0</th>\n",
       "      <td>2010-09-20</td>\n",
       "      <td>23</td>\n",
       "      <td>17</td>\n",
       "      <td>0.47</td>\n",
       "      <td>212</td>\n",
       "      <td>0</td>\n",
       "      <td>0</td>\n",
       "      <td>0</td>\n",
       "      <td>0</td>\n",
       "      <td>0</td>\n",
       "      <td>...</td>\n",
       "      <td>1</td>\n",
       "      <td>0</td>\n",
       "      <td>0</td>\n",
       "      <td>0</td>\n",
       "      <td>0</td>\n",
       "      <td>0</td>\n",
       "      <td>0</td>\n",
       "      <td>0</td>\n",
       "      <td>1</td>\n",
       "      <td>0</td>\n",
       "    </tr>\n",
       "    <tr>\n",
       "      <th>1</th>\n",
       "      <td>2010-09-21</td>\n",
       "      <td>20</td>\n",
       "      <td>10</td>\n",
       "      <td>0.52</td>\n",
       "      <td>324</td>\n",
       "      <td>0</td>\n",
       "      <td>0</td>\n",
       "      <td>0</td>\n",
       "      <td>0</td>\n",
       "      <td>0</td>\n",
       "      <td>...</td>\n",
       "      <td>1</td>\n",
       "      <td>1</td>\n",
       "      <td>0</td>\n",
       "      <td>0</td>\n",
       "      <td>0</td>\n",
       "      <td>0</td>\n",
       "      <td>0</td>\n",
       "      <td>0</td>\n",
       "      <td>1</td>\n",
       "      <td>0</td>\n",
       "    </tr>\n",
       "    <tr>\n",
       "      <th>2</th>\n",
       "      <td>2010-09-22</td>\n",
       "      <td>26</td>\n",
       "      <td>15</td>\n",
       "      <td>0.60</td>\n",
       "      <td>377</td>\n",
       "      <td>0</td>\n",
       "      <td>0</td>\n",
       "      <td>0</td>\n",
       "      <td>0</td>\n",
       "      <td>0</td>\n",
       "      <td>...</td>\n",
       "      <td>1</td>\n",
       "      <td>0</td>\n",
       "      <td>1</td>\n",
       "      <td>0</td>\n",
       "      <td>0</td>\n",
       "      <td>0</td>\n",
       "      <td>0</td>\n",
       "      <td>0</td>\n",
       "      <td>1</td>\n",
       "      <td>0</td>\n",
       "    </tr>\n",
       "    <tr>\n",
       "      <th>3</th>\n",
       "      <td>2010-09-23</td>\n",
       "      <td>27</td>\n",
       "      <td>8</td>\n",
       "      <td>0.64</td>\n",
       "      <td>373</td>\n",
       "      <td>0</td>\n",
       "      <td>0</td>\n",
       "      <td>0</td>\n",
       "      <td>0</td>\n",
       "      <td>0</td>\n",
       "      <td>...</td>\n",
       "      <td>1</td>\n",
       "      <td>0</td>\n",
       "      <td>0</td>\n",
       "      <td>1</td>\n",
       "      <td>0</td>\n",
       "      <td>0</td>\n",
       "      <td>0</td>\n",
       "      <td>0</td>\n",
       "      <td>1</td>\n",
       "      <td>0</td>\n",
       "    </tr>\n",
       "    <tr>\n",
       "      <th>4</th>\n",
       "      <td>2010-09-24</td>\n",
       "      <td>29</td>\n",
       "      <td>15</td>\n",
       "      <td>0.60</td>\n",
       "      <td>362</td>\n",
       "      <td>0</td>\n",
       "      <td>0</td>\n",
       "      <td>0</td>\n",
       "      <td>0</td>\n",
       "      <td>0</td>\n",
       "      <td>...</td>\n",
       "      <td>1</td>\n",
       "      <td>0</td>\n",
       "      <td>0</td>\n",
       "      <td>0</td>\n",
       "      <td>1</td>\n",
       "      <td>0</td>\n",
       "      <td>0</td>\n",
       "      <td>0</td>\n",
       "      <td>1</td>\n",
       "      <td>0</td>\n",
       "    </tr>\n",
       "  </tbody>\n",
       "</table>\n",
       "<p>5 rows × 36 columns</p>\n",
       "</div>"
      ],
      "text/plain": [
       "        date  temperature  windspeed  humidity  total  month_2  month_3  \\\n",
       "0 2010-09-20           23         17      0.47    212        0        0   \n",
       "1 2010-09-21           20         10      0.52    324        0        0   \n",
       "2 2010-09-22           26         15      0.60    377        0        0   \n",
       "3 2010-09-23           27          8      0.64    373        0        0   \n",
       "4 2010-09-24           29         15      0.60    362        0        0   \n",
       "\n",
       "   month_4  month_5  month_6  ...  workingday_1  weekday_1  weekday_2  \\\n",
       "0        0        0        0  ...             1          0          0   \n",
       "1        0        0        0  ...             1          1          0   \n",
       "2        0        0        0  ...             1          0          1   \n",
       "3        0        0        0  ...             1          0          0   \n",
       "4        0        0        0  ...             1          0          0   \n",
       "\n",
       "   weekday_3  weekday_4  weekday_5  weekday_6  season_2  season_3  season_4  \n",
       "0          0          0          0          0         0         1         0  \n",
       "1          0          0          0          0         0         1         0  \n",
       "2          0          0          0          0         0         1         0  \n",
       "3          1          0          0          0         0         1         0  \n",
       "4          0          1          0          0         0         1         0  \n",
       "\n",
       "[5 rows x 36 columns]"
      ]
     },
     "execution_count": 34,
     "metadata": {},
     "output_type": "execute_result"
    }
   ],
   "source": [
    "dfpp.head()"
   ]
  },
  {
   "cell_type": "code",
   "execution_count": 22,
   "metadata": {
    "ExecuteTime": {
     "end_time": "2019-11-12T17:07:53.952991Z",
     "start_time": "2019-11-12T17:07:53.941992Z"
    }
   },
   "outputs": [
    {
     "data": {
      "text/html": [
       "<div>\n",
       "<style scoped>\n",
       "    .dataframe tbody tr th:only-of-type {\n",
       "        vertical-align: middle;\n",
       "    }\n",
       "\n",
       "    .dataframe tbody tr th {\n",
       "        vertical-align: top;\n",
       "    }\n",
       "\n",
       "    .dataframe thead th {\n",
       "        text-align: right;\n",
       "    }\n",
       "</style>\n",
       "<table border=\"1\" class=\"dataframe\">\n",
       "  <thead>\n",
       "    <tr style=\"text-align: right;\">\n",
       "      <th></th>\n",
       "      <th>0</th>\n",
       "      <th>1</th>\n",
       "      <th>2</th>\n",
       "    </tr>\n",
       "  </thead>\n",
       "  <tbody>\n",
       "    <tr>\n",
       "      <th>0</th>\n",
       "      <td>0.750000</td>\n",
       "      <td>0.386364</td>\n",
       "      <td>0.3500</td>\n",
       "    </tr>\n",
       "    <tr>\n",
       "      <th>1</th>\n",
       "      <td>0.681818</td>\n",
       "      <td>0.227273</td>\n",
       "      <td>0.4125</td>\n",
       "    </tr>\n",
       "    <tr>\n",
       "      <th>2</th>\n",
       "      <td>0.818182</td>\n",
       "      <td>0.340909</td>\n",
       "      <td>0.5125</td>\n",
       "    </tr>\n",
       "    <tr>\n",
       "      <th>3</th>\n",
       "      <td>0.840909</td>\n",
       "      <td>0.181818</td>\n",
       "      <td>0.5625</td>\n",
       "    </tr>\n",
       "    <tr>\n",
       "      <th>4</th>\n",
       "      <td>0.886364</td>\n",
       "      <td>0.340909</td>\n",
       "      <td>0.5125</td>\n",
       "    </tr>\n",
       "    <tr>\n",
       "      <th>...</th>\n",
       "      <td>...</td>\n",
       "      <td>...</td>\n",
       "      <td>...</td>\n",
       "    </tr>\n",
       "    <tr>\n",
       "      <th>3313</th>\n",
       "      <td>0.704545</td>\n",
       "      <td>0.340909</td>\n",
       "      <td>0.7875</td>\n",
       "    </tr>\n",
       "    <tr>\n",
       "      <th>3314</th>\n",
       "      <td>0.590909</td>\n",
       "      <td>0.250000</td>\n",
       "      <td>0.6125</td>\n",
       "    </tr>\n",
       "    <tr>\n",
       "      <th>3315</th>\n",
       "      <td>0.613636</td>\n",
       "      <td>0.159091</td>\n",
       "      <td>0.6875</td>\n",
       "    </tr>\n",
       "    <tr>\n",
       "      <th>3316</th>\n",
       "      <td>0.613636</td>\n",
       "      <td>0.136364</td>\n",
       "      <td>0.8125</td>\n",
       "    </tr>\n",
       "    <tr>\n",
       "      <th>3317</th>\n",
       "      <td>0.681818</td>\n",
       "      <td>0.500000</td>\n",
       "      <td>0.8875</td>\n",
       "    </tr>\n",
       "  </tbody>\n",
       "</table>\n",
       "<p>3318 rows × 3 columns</p>\n",
       "</div>"
      ],
      "text/plain": [
       "             0         1       2\n",
       "0     0.750000  0.386364  0.3500\n",
       "1     0.681818  0.227273  0.4125\n",
       "2     0.818182  0.340909  0.5125\n",
       "3     0.840909  0.181818  0.5625\n",
       "4     0.886364  0.340909  0.5125\n",
       "...        ...       ...     ...\n",
       "3313  0.704545  0.340909  0.7875\n",
       "3314  0.590909  0.250000  0.6125\n",
       "3315  0.613636  0.159091  0.6875\n",
       "3316  0.613636  0.136364  0.8125\n",
       "3317  0.681818  0.500000  0.8875\n",
       "\n",
       "[3318 rows x 3 columns]"
      ]
     },
     "execution_count": 22,
     "metadata": {},
     "output_type": "execute_result"
    }
   ],
   "source": [
    "# scalling temp, windspeed, humidity\n",
    "dfsc = dfpp[['temperature', 'windspeed', 'humidity']]\n",
    "\n",
    "from sklearn.preprocessing import MinMaxScaler\n",
    "\n",
    "scaler = MinMaxScaler()df\n",
    "scaled = scaler.fit_transform(dfsc)\n",
    "\n",
    "pd.DataFrame(scaled)"
   ]
  },
  {
   "cell_type": "code",
   "execution_count": 35,
   "metadata": {
    "ExecuteTime": {
     "end_time": "2019-11-12T17:11:35.769938Z",
     "start_time": "2019-11-12T17:11:35.764971Z"
    }
   },
   "outputs": [
    {
     "data": {
      "text/plain": [
       "Index(['date', 'temperature', 'windspeed', 'humidity', 'total', 'month_2',\n",
       "       'month_3', 'month_4', 'month_5', 'month_6', 'month_7', 'month_8',\n",
       "       'month_9', 'month_10', 'month_11', 'month_12', 'year_2011', 'year_2012',\n",
       "       'year_2013', 'year_2014', 'year_2015', 'year_2016', 'year_2017',\n",
       "       'year_2018', 'year_2019', 'holiday_1', 'workingday_1', 'weekday_1',\n",
       "       'weekday_2', 'weekday_3', 'weekday_4', 'weekday_5', 'weekday_6',\n",
       "       'season_2', 'season_3', 'season_4'],\n",
       "      dtype='object')"
      ]
     },
     "execution_count": 35,
     "metadata": {},
     "output_type": "execute_result"
    }
   ],
   "source": [
    "dfpp.columns"
   ]
  },
  {
   "cell_type": "code",
   "execution_count": 39,
   "metadata": {
    "ExecuteTime": {
     "end_time": "2019-11-12T17:12:43.200281Z",
     "start_time": "2019-11-12T17:12:43.196267Z"
    }
   },
   "outputs": [],
   "source": [
    "dfx = dfpp.drop(['total', 'date'], axis=1)\n",
    "dfy = dfpp['total']"
   ]
  },
  {
   "cell_type": "markdown",
   "metadata": {},
   "source": [
    "#### splitting"
   ]
  },
  {
   "cell_type": "code",
   "execution_count": 100,
   "metadata": {
    "ExecuteTime": {
     "end_time": "2019-11-12T18:04:40.826993Z",
     "start_time": "2019-11-12T18:04:40.819968Z"
    }
   },
   "outputs": [],
   "source": [
    "from sklearn.model_selection import train_test_split\n",
    "from sklearn.metrics import mean_squared_error, r2_score, mean_absolute_error\n",
    "from math import sqrt\n",
    "\n",
    "x_train,x_test,y_train,y_test = train_test_split(dfx, dfy, test_size= 0.2, random_state = 10)"
   ]
  },
  {
   "cell_type": "code",
   "execution_count": null,
   "metadata": {},
   "outputs": [],
   "source": []
  },
  {
   "cell_type": "code",
   "execution_count": null,
   "metadata": {},
   "outputs": [],
   "source": []
  },
  {
   "cell_type": "markdown",
   "metadata": {},
   "source": [
    "#### linear regression"
   ]
  },
  {
   "cell_type": "code",
   "execution_count": 102,
   "metadata": {
    "ExecuteTime": {
     "end_time": "2019-11-12T18:06:15.171694Z",
     "start_time": "2019-11-12T18:06:15.149704Z"
    }
   },
   "outputs": [
    {
     "name": "stdout",
     "output_type": "stream",
     "text": [
      "MAE: 1216.61\n",
      "RMSE: 1608.16\n"
     ]
    }
   ],
   "source": [
    "from sklearn import linear_model\n",
    "model_lr = linear_model.LinearRegression()\n",
    "\n",
    "model_lr.fit(x_train, y_train)\n",
    "pred = model_lr.predict(x_test)\n",
    "print('MAE: %.2f' % mean_absolute_error(y_test, pred))\n",
    "print('RMSE: %.2f' % sqrt(mean_squared_error(y_test, pred)))"
   ]
  },
  {
   "cell_type": "markdown",
   "metadata": {},
   "source": [
    "#### logistic regression"
   ]
  },
  {
   "cell_type": "code",
   "execution_count": 85,
   "metadata": {
    "ExecuteTime": {
     "end_time": "2019-11-12T17:55:30.762207Z",
     "start_time": "2019-11-12T17:54:59.958251Z"
    }
   },
   "outputs": [
    {
     "name": "stdout",
     "output_type": "stream",
     "text": [
      "MAE: 2058.49\n",
      "RMSE: 2971.24\n"
     ]
    }
   ],
   "source": [
    "from sklearn.linear_model import LogisticRegression\n",
    "model_lg = LogisticRegression(solver='lbfgs', max_iter=500)\n",
    "\n",
    "model_lg.fit(x_train, y_train)\n",
    "pred = model_lg.predict(x_test)\n",
    "print('MAE: %.2f' % mean_absolute_error(y_test, pred))\n",
    "print('RMSE: %.2f' % sqrt(mean_squared_error(y_test, pred)))"
   ]
  },
  {
   "cell_type": "markdown",
   "metadata": {},
   "source": [
    "#### Random Forest"
   ]
  },
  {
   "cell_type": "code",
   "execution_count": 86,
   "metadata": {
    "ExecuteTime": {
     "end_time": "2019-11-12T17:55:36.065232Z",
     "start_time": "2019-11-12T17:55:30.845207Z"
    }
   },
   "outputs": [
    {
     "name": "stdout",
     "output_type": "stream",
     "text": [
      "MAE: 2333.90\n",
      "RMSE: 3232.06\n"
     ]
    }
   ],
   "source": [
    "from sklearn.ensemble import RandomForestClassifier\n",
    "model_rfc = RandomForestClassifier(n_estimators=500, max_depth=2)\n",
    "\n",
    "model_rfc.fit(x_train, y_train)\n",
    "pred = model_rfc.predict(x_test)\n",
    "print('MAE: %.2f' % mean_absolute_error(y_test, pred))\n",
    "print('RMSE: %.2f' % sqrt(mean_squared_error(y_test, pred)))"
   ]
  },
  {
   "cell_type": "markdown",
   "metadata": {},
   "source": [
    "#### SVC"
   ]
  },
  {
   "cell_type": "code",
   "execution_count": 87,
   "metadata": {
    "ExecuteTime": {
     "end_time": "2019-11-12T17:56:13.347221Z",
     "start_time": "2019-11-12T17:55:36.151208Z"
    }
   },
   "outputs": [
    {
     "name": "stdout",
     "output_type": "stream",
     "text": [
      "MAE: 3157.31\n",
      "RMSE: 4175.28\n"
     ]
    }
   ],
   "source": [
    "from sklearn.svm import SVC\n",
    "modelS = SVC(gamma='auto')\n",
    "\n",
    "modelS.fit(x_train, y_train)\n",
    "pred = modelS.predict(x_test)\n",
    "print('MAE: %.2f' % mean_absolute_error(y_test, pred))\n",
    "print('RMSE: %.2f' % sqrt(mean_squared_error(y_test, pred)))"
   ]
  },
  {
   "cell_type": "markdown",
   "metadata": {},
   "source": [
    "#### KNN"
   ]
  },
  {
   "cell_type": "code",
   "execution_count": 58,
   "metadata": {
    "ExecuteTime": {
     "end_time": "2019-11-12T17:27:30.967801Z",
     "start_time": "2019-11-12T17:27:30.962800Z"
    }
   },
   "outputs": [],
   "source": [
    "def nNeigbors():\n",
    "    x = round(len(dfpp)**.5)\n",
    "    if x % 2 == 0:\n",
    "        return x + 1\n",
    "    else:\n",
    "        return x"
   ]
  },
  {
   "cell_type": "code",
   "execution_count": 88,
   "metadata": {
    "ExecuteTime": {
     "end_time": "2019-11-12T17:56:13.479214Z",
     "start_time": "2019-11-12T17:56:13.436208Z"
    }
   },
   "outputs": [
    {
     "name": "stdout",
     "output_type": "stream",
     "text": [
      "MAE: 5707.49\n",
      "RMSE: 6783.10\n"
     ]
    }
   ],
   "source": [
    "from sklearn.neighbors import KNeighborsClassifier\n",
    "modelK = KNeighborsClassifier(n_neighbors=nNeigbors())\n",
    "\n",
    "modelK.fit(x_train,y_train)\n",
    "pred = modelK.predict(x_test)\n",
    "print('MAE: %.2f' % mean_absolute_error(y_test, pred))\n",
    "print('RMSE: %.2f' % sqrt(mean_squared_error(y_test, pred)))"
   ]
  },
  {
   "cell_type": "code",
   "execution_count": null,
   "metadata": {},
   "outputs": [],
   "source": []
  },
  {
   "cell_type": "markdown",
   "metadata": {},
   "source": [
    "Dengan hanya melihat besaran RMSE, saya langsung memilih KNN. Kemudian selanjutnya akan diuji lebih lanjut pada notebook predicting"
   ]
  },
  {
   "cell_type": "code",
   "execution_count": null,
   "metadata": {},
   "outputs": [],
   "source": []
  }
 ],
 "metadata": {
  "kernelspec": {
   "display_name": "Python 3",
   "language": "python",
   "name": "python3"
  },
  "language_info": {
   "codemirror_mode": {
    "name": "ipython",
    "version": 3
   },
   "file_extension": ".py",
   "mimetype": "text/x-python",
   "name": "python",
   "nbconvert_exporter": "python",
   "pygments_lexer": "ipython3",
   "version": "3.7.5"
  },
  "varInspector": {
   "cols": {
    "lenName": 16,
    "lenType": 16,
    "lenVar": 40
   },
   "kernels_config": {
    "python": {
     "delete_cmd_postfix": "",
     "delete_cmd_prefix": "del ",
     "library": "var_list.py",
     "varRefreshCmd": "print(var_dic_list())"
    },
    "r": {
     "delete_cmd_postfix": ") ",
     "delete_cmd_prefix": "rm(",
     "library": "var_list.r",
     "varRefreshCmd": "cat(var_dic_list()) "
    }
   },
   "types_to_exclude": [
    "module",
    "function",
    "builtin_function_or_method",
    "instance",
    "_Feature"
   ],
   "window_display": false
  }
 },
 "nbformat": 4,
 "nbformat_minor": 2
}
