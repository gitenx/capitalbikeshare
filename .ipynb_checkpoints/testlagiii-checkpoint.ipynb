{
 "cells": [
  {
   "cell_type": "markdown",
   "metadata": {},
   "source": [
    "### Final Project JC-DS Batch 6 Purwadhika Kampus Jakarta\n",
    "\n",
    "#### Model Selection\n",
    "\n",
    "by Nur Wibowo\n",
    "\n",
    "-------"
   ]
  },
  {
   "cell_type": "code",
   "execution_count": 1,
   "metadata": {
    "ExecuteTime": {
     "end_time": "2019-11-13T14:55:44.679874Z",
     "start_time": "2019-11-13T14:55:38.915002Z"
    }
   },
   "outputs": [],
   "source": [
    "import pandas as pd\n",
    "import numpy as np\n",
    "import matplotlib.pyplot as plt\n",
    "import seaborn as sb\n",
    "import warnings\n",
    "warnings.filterwarnings('ignore')"
   ]
  },
  {
   "cell_type": "markdown",
   "metadata": {},
   "source": [
    "#### load dataset"
   ]
  },
  {
   "cell_type": "code",
   "execution_count": 2,
   "metadata": {
    "ExecuteTime": {
     "end_time": "2019-11-13T14:55:44.748852Z",
     "start_time": "2019-11-13T14:55:44.680852Z"
    }
   },
   "outputs": [],
   "source": [
    "df = pd.read_csv('data/dataset_capitalbikesharing.csv', parse_dates=['date'])"
   ]
  },
  {
   "cell_type": "code",
   "execution_count": 3,
   "metadata": {
    "ExecuteTime": {
     "end_time": "2019-11-13T14:55:44.753855Z",
     "start_time": "2019-11-13T14:55:44.749852Z"
    }
   },
   "outputs": [
    {
     "data": {
      "text/plain": [
       "Index(['date', 'month', 'year', 'holiday', 'workingday', 'weekday', 'season',\n",
       "       'temperature', 'windspeed', 'humidity', 'casual', 'member', 'total'],\n",
       "      dtype='object')"
      ]
     },
     "execution_count": 3,
     "metadata": {},
     "output_type": "execute_result"
    }
   ],
   "source": [
    "df.columns"
   ]
  },
  {
   "cell_type": "code",
   "execution_count": 4,
   "metadata": {
    "ExecuteTime": {
     "end_time": "2019-11-13T14:55:44.776854Z",
     "start_time": "2019-11-13T14:55:44.755854Z"
    }
   },
   "outputs": [
    {
     "name": "stdout",
     "output_type": "stream",
     "text": [
      "<class 'pandas.core.frame.DataFrame'>\n",
      "RangeIndex: 3318 entries, 0 to 3317\n",
      "Data columns (total 13 columns):\n",
      "date           3318 non-null datetime64[ns]\n",
      "month          3318 non-null int64\n",
      "year           3318 non-null int64\n",
      "holiday        3318 non-null int64\n",
      "workingday     3318 non-null int64\n",
      "weekday        3318 non-null int64\n",
      "season         3318 non-null int64\n",
      "temperature    3318 non-null int64\n",
      "windspeed      3318 non-null int64\n",
      "humidity       3318 non-null float64\n",
      "casual         3318 non-null int64\n",
      "member         3318 non-null int64\n",
      "total          3318 non-null int64\n",
      "dtypes: datetime64[ns](1), float64(1), int64(11)\n",
      "memory usage: 337.1 KB\n"
     ]
    }
   ],
   "source": [
    "df.info()"
   ]
  },
  {
   "cell_type": "markdown",
   "metadata": {},
   "source": [
    "#### preprocessing"
   ]
  },
  {
   "cell_type": "code",
   "execution_count": 5,
   "metadata": {
    "ExecuteTime": {
     "end_time": "2019-11-13T14:55:44.783854Z",
     "start_time": "2019-11-13T14:55:44.777855Z"
    }
   },
   "outputs": [],
   "source": [
    "dfpp = df.copy()"
   ]
  },
  {
   "cell_type": "code",
   "execution_count": 6,
   "metadata": {
    "ExecuteTime": {
     "end_time": "2019-11-13T14:55:44.806852Z",
     "start_time": "2019-11-13T14:55:44.784853Z"
    }
   },
   "outputs": [
    {
     "data": {
      "text/html": [
       "<div>\n",
       "<style scoped>\n",
       "    .dataframe tbody tr th:only-of-type {\n",
       "        vertical-align: middle;\n",
       "    }\n",
       "\n",
       "    .dataframe tbody tr th {\n",
       "        vertical-align: top;\n",
       "    }\n",
       "\n",
       "    .dataframe thead th {\n",
       "        text-align: right;\n",
       "    }\n",
       "</style>\n",
       "<table border=\"1\" class=\"dataframe\">\n",
       "  <thead>\n",
       "    <tr style=\"text-align: right;\">\n",
       "      <th></th>\n",
       "      <th>date</th>\n",
       "      <th>month</th>\n",
       "      <th>year</th>\n",
       "      <th>holiday</th>\n",
       "      <th>workingday</th>\n",
       "      <th>weekday</th>\n",
       "      <th>season</th>\n",
       "      <th>temperature</th>\n",
       "      <th>windspeed</th>\n",
       "      <th>humidity</th>\n",
       "      <th>casual</th>\n",
       "      <th>member</th>\n",
       "      <th>total</th>\n",
       "    </tr>\n",
       "  </thead>\n",
       "  <tbody>\n",
       "    <tr>\n",
       "      <th>0</th>\n",
       "      <td>2010-09-20</td>\n",
       "      <td>9</td>\n",
       "      <td>2010</td>\n",
       "      <td>0</td>\n",
       "      <td>1</td>\n",
       "      <td>0</td>\n",
       "      <td>3</td>\n",
       "      <td>23</td>\n",
       "      <td>17</td>\n",
       "      <td>0.47</td>\n",
       "      <td>34</td>\n",
       "      <td>178</td>\n",
       "      <td>212</td>\n",
       "    </tr>\n",
       "    <tr>\n",
       "      <th>1</th>\n",
       "      <td>2010-09-21</td>\n",
       "      <td>9</td>\n",
       "      <td>2010</td>\n",
       "      <td>0</td>\n",
       "      <td>1</td>\n",
       "      <td>1</td>\n",
       "      <td>3</td>\n",
       "      <td>20</td>\n",
       "      <td>10</td>\n",
       "      <td>0.52</td>\n",
       "      <td>109</td>\n",
       "      <td>215</td>\n",
       "      <td>324</td>\n",
       "    </tr>\n",
       "    <tr>\n",
       "      <th>2</th>\n",
       "      <td>2010-09-22</td>\n",
       "      <td>9</td>\n",
       "      <td>2010</td>\n",
       "      <td>0</td>\n",
       "      <td>1</td>\n",
       "      <td>2</td>\n",
       "      <td>3</td>\n",
       "      <td>26</td>\n",
       "      <td>15</td>\n",
       "      <td>0.60</td>\n",
       "      <td>117</td>\n",
       "      <td>260</td>\n",
       "      <td>377</td>\n",
       "    </tr>\n",
       "    <tr>\n",
       "      <th>3</th>\n",
       "      <td>2010-09-23</td>\n",
       "      <td>9</td>\n",
       "      <td>2010</td>\n",
       "      <td>0</td>\n",
       "      <td>1</td>\n",
       "      <td>3</td>\n",
       "      <td>3</td>\n",
       "      <td>27</td>\n",
       "      <td>8</td>\n",
       "      <td>0.64</td>\n",
       "      <td>124</td>\n",
       "      <td>249</td>\n",
       "      <td>373</td>\n",
       "    </tr>\n",
       "    <tr>\n",
       "      <th>4</th>\n",
       "      <td>2010-09-24</td>\n",
       "      <td>9</td>\n",
       "      <td>2010</td>\n",
       "      <td>0</td>\n",
       "      <td>1</td>\n",
       "      <td>4</td>\n",
       "      <td>3</td>\n",
       "      <td>29</td>\n",
       "      <td>15</td>\n",
       "      <td>0.60</td>\n",
       "      <td>156</td>\n",
       "      <td>206</td>\n",
       "      <td>362</td>\n",
       "    </tr>\n",
       "  </tbody>\n",
       "</table>\n",
       "</div>"
      ],
      "text/plain": [
       "        date  month  year  holiday  workingday  weekday  season  temperature  \\\n",
       "0 2010-09-20      9  2010        0           1        0       3           23   \n",
       "1 2010-09-21      9  2010        0           1        1       3           20   \n",
       "2 2010-09-22      9  2010        0           1        2       3           26   \n",
       "3 2010-09-23      9  2010        0           1        3       3           27   \n",
       "4 2010-09-24      9  2010        0           1        4       3           29   \n",
       "\n",
       "   windspeed  humidity  casual  member  total  \n",
       "0         17      0.47      34     178    212  \n",
       "1         10      0.52     109     215    324  \n",
       "2         15      0.60     117     260    377  \n",
       "3          8      0.64     124     249    373  \n",
       "4         15      0.60     156     206    362  "
      ]
     },
     "execution_count": 6,
     "metadata": {},
     "output_type": "execute_result"
    }
   ],
   "source": [
    "dfpp.head()"
   ]
  },
  {
   "cell_type": "code",
   "execution_count": 7,
   "metadata": {
    "ExecuteTime": {
     "end_time": "2019-11-13T14:55:44.820853Z",
     "start_time": "2019-11-13T14:55:44.808854Z"
    }
   },
   "outputs": [],
   "source": [
    "# drop casual and member feature\n",
    "dfpp = dfpp.drop(['casual', 'member'], axis=1)"
   ]
  },
  {
   "cell_type": "code",
   "execution_count": 8,
   "metadata": {
    "ExecuteTime": {
     "end_time": "2019-11-13T14:55:44.834855Z",
     "start_time": "2019-11-13T14:55:44.822854Z"
    }
   },
   "outputs": [
    {
     "data": {
      "text/plain": [
       "Index(['date', 'month', 'year', 'holiday', 'workingday', 'weekday', 'season',\n",
       "       'temperature', 'windspeed', 'humidity', 'total'],\n",
       "      dtype='object')"
      ]
     },
     "execution_count": 8,
     "metadata": {},
     "output_type": "execute_result"
    }
   ],
   "source": [
    "dfpp.columns"
   ]
  },
  {
   "cell_type": "code",
   "execution_count": 9,
   "metadata": {
    "ExecuteTime": {
     "end_time": "2019-11-13T14:55:44.867863Z",
     "start_time": "2019-11-13T14:55:44.836854Z"
    }
   },
   "outputs": [],
   "source": [
    "# encoding categorical\n",
    "list_cat = ['month', 'year', 'holiday', 'workingday', 'weekday', 'season']\n",
    "\n",
    "for i in list_cat:\n",
    "    dfpp = pd.get_dummies(dfpp, columns=[i], drop_first=True)\n",
    "    "
   ]
  },
  {
   "cell_type": "code",
   "execution_count": 10,
   "metadata": {
    "ExecuteTime": {
     "end_time": "2019-11-13T14:55:44.881852Z",
     "start_time": "2019-11-13T14:55:44.868854Z"
    }
   },
   "outputs": [
    {
     "data": {
      "text/html": [
       "<div>\n",
       "<style scoped>\n",
       "    .dataframe tbody tr th:only-of-type {\n",
       "        vertical-align: middle;\n",
       "    }\n",
       "\n",
       "    .dataframe tbody tr th {\n",
       "        vertical-align: top;\n",
       "    }\n",
       "\n",
       "    .dataframe thead th {\n",
       "        text-align: right;\n",
       "    }\n",
       "</style>\n",
       "<table border=\"1\" class=\"dataframe\">\n",
       "  <thead>\n",
       "    <tr style=\"text-align: right;\">\n",
       "      <th></th>\n",
       "      <th>date</th>\n",
       "      <th>temperature</th>\n",
       "      <th>windspeed</th>\n",
       "      <th>humidity</th>\n",
       "      <th>total</th>\n",
       "      <th>month_2</th>\n",
       "      <th>month_3</th>\n",
       "      <th>month_4</th>\n",
       "      <th>month_5</th>\n",
       "      <th>month_6</th>\n",
       "      <th>...</th>\n",
       "      <th>workingday_1</th>\n",
       "      <th>weekday_1</th>\n",
       "      <th>weekday_2</th>\n",
       "      <th>weekday_3</th>\n",
       "      <th>weekday_4</th>\n",
       "      <th>weekday_5</th>\n",
       "      <th>weekday_6</th>\n",
       "      <th>season_2</th>\n",
       "      <th>season_3</th>\n",
       "      <th>season_4</th>\n",
       "    </tr>\n",
       "  </thead>\n",
       "  <tbody>\n",
       "    <tr>\n",
       "      <th>0</th>\n",
       "      <td>2010-09-20</td>\n",
       "      <td>23</td>\n",
       "      <td>17</td>\n",
       "      <td>0.47</td>\n",
       "      <td>212</td>\n",
       "      <td>0</td>\n",
       "      <td>0</td>\n",
       "      <td>0</td>\n",
       "      <td>0</td>\n",
       "      <td>0</td>\n",
       "      <td>...</td>\n",
       "      <td>1</td>\n",
       "      <td>0</td>\n",
       "      <td>0</td>\n",
       "      <td>0</td>\n",
       "      <td>0</td>\n",
       "      <td>0</td>\n",
       "      <td>0</td>\n",
       "      <td>0</td>\n",
       "      <td>1</td>\n",
       "      <td>0</td>\n",
       "    </tr>\n",
       "    <tr>\n",
       "      <th>1</th>\n",
       "      <td>2010-09-21</td>\n",
       "      <td>20</td>\n",
       "      <td>10</td>\n",
       "      <td>0.52</td>\n",
       "      <td>324</td>\n",
       "      <td>0</td>\n",
       "      <td>0</td>\n",
       "      <td>0</td>\n",
       "      <td>0</td>\n",
       "      <td>0</td>\n",
       "      <td>...</td>\n",
       "      <td>1</td>\n",
       "      <td>1</td>\n",
       "      <td>0</td>\n",
       "      <td>0</td>\n",
       "      <td>0</td>\n",
       "      <td>0</td>\n",
       "      <td>0</td>\n",
       "      <td>0</td>\n",
       "      <td>1</td>\n",
       "      <td>0</td>\n",
       "    </tr>\n",
       "    <tr>\n",
       "      <th>2</th>\n",
       "      <td>2010-09-22</td>\n",
       "      <td>26</td>\n",
       "      <td>15</td>\n",
       "      <td>0.60</td>\n",
       "      <td>377</td>\n",
       "      <td>0</td>\n",
       "      <td>0</td>\n",
       "      <td>0</td>\n",
       "      <td>0</td>\n",
       "      <td>0</td>\n",
       "      <td>...</td>\n",
       "      <td>1</td>\n",
       "      <td>0</td>\n",
       "      <td>1</td>\n",
       "      <td>0</td>\n",
       "      <td>0</td>\n",
       "      <td>0</td>\n",
       "      <td>0</td>\n",
       "      <td>0</td>\n",
       "      <td>1</td>\n",
       "      <td>0</td>\n",
       "    </tr>\n",
       "    <tr>\n",
       "      <th>3</th>\n",
       "      <td>2010-09-23</td>\n",
       "      <td>27</td>\n",
       "      <td>8</td>\n",
       "      <td>0.64</td>\n",
       "      <td>373</td>\n",
       "      <td>0</td>\n",
       "      <td>0</td>\n",
       "      <td>0</td>\n",
       "      <td>0</td>\n",
       "      <td>0</td>\n",
       "      <td>...</td>\n",
       "      <td>1</td>\n",
       "      <td>0</td>\n",
       "      <td>0</td>\n",
       "      <td>1</td>\n",
       "      <td>0</td>\n",
       "      <td>0</td>\n",
       "      <td>0</td>\n",
       "      <td>0</td>\n",
       "      <td>1</td>\n",
       "      <td>0</td>\n",
       "    </tr>\n",
       "    <tr>\n",
       "      <th>4</th>\n",
       "      <td>2010-09-24</td>\n",
       "      <td>29</td>\n",
       "      <td>15</td>\n",
       "      <td>0.60</td>\n",
       "      <td>362</td>\n",
       "      <td>0</td>\n",
       "      <td>0</td>\n",
       "      <td>0</td>\n",
       "      <td>0</td>\n",
       "      <td>0</td>\n",
       "      <td>...</td>\n",
       "      <td>1</td>\n",
       "      <td>0</td>\n",
       "      <td>0</td>\n",
       "      <td>0</td>\n",
       "      <td>1</td>\n",
       "      <td>0</td>\n",
       "      <td>0</td>\n",
       "      <td>0</td>\n",
       "      <td>1</td>\n",
       "      <td>0</td>\n",
       "    </tr>\n",
       "  </tbody>\n",
       "</table>\n",
       "<p>5 rows × 36 columns</p>\n",
       "</div>"
      ],
      "text/plain": [
       "        date  temperature  windspeed  humidity  total  month_2  month_3  \\\n",
       "0 2010-09-20           23         17      0.47    212        0        0   \n",
       "1 2010-09-21           20         10      0.52    324        0        0   \n",
       "2 2010-09-22           26         15      0.60    377        0        0   \n",
       "3 2010-09-23           27          8      0.64    373        0        0   \n",
       "4 2010-09-24           29         15      0.60    362        0        0   \n",
       "\n",
       "   month_4  month_5  month_6  ...  workingday_1  weekday_1  weekday_2  \\\n",
       "0        0        0        0  ...             1          0          0   \n",
       "1        0        0        0  ...             1          1          0   \n",
       "2        0        0        0  ...             1          0          1   \n",
       "3        0        0        0  ...             1          0          0   \n",
       "4        0        0        0  ...             1          0          0   \n",
       "\n",
       "   weekday_3  weekday_4  weekday_5  weekday_6  season_2  season_3  season_4  \n",
       "0          0          0          0          0         0         1         0  \n",
       "1          0          0          0          0         0         1         0  \n",
       "2          0          0          0          0         0         1         0  \n",
       "3          1          0          0          0         0         1         0  \n",
       "4          0          1          0          0         0         1         0  \n",
       "\n",
       "[5 rows x 36 columns]"
      ]
     },
     "execution_count": 10,
     "metadata": {},
     "output_type": "execute_result"
    }
   ],
   "source": [
    "dfpp.head()"
   ]
  },
  {
   "cell_type": "code",
   "execution_count": 56,
   "metadata": {
    "ExecuteTime": {
     "end_time": "2019-11-13T15:24:45.359359Z",
     "start_time": "2019-11-13T15:24:45.336358Z"
    }
   },
   "outputs": [
    {
     "data": {
      "text/html": [
       "<div>\n",
       "<style scoped>\n",
       "    .dataframe tbody tr th:only-of-type {\n",
       "        vertical-align: middle;\n",
       "    }\n",
       "\n",
       "    .dataframe tbody tr th {\n",
       "        vertical-align: top;\n",
       "    }\n",
       "\n",
       "    .dataframe thead th {\n",
       "        text-align: right;\n",
       "    }\n",
       "</style>\n",
       "<table border=\"1\" class=\"dataframe\">\n",
       "  <thead>\n",
       "    <tr style=\"text-align: right;\">\n",
       "      <th></th>\n",
       "      <th>temperature</th>\n",
       "      <th>windspeed</th>\n",
       "      <th>humidity</th>\n",
       "      <th>total</th>\n",
       "      <th>month_2</th>\n",
       "      <th>month_3</th>\n",
       "      <th>month_4</th>\n",
       "      <th>month_5</th>\n",
       "      <th>month_6</th>\n",
       "      <th>month_7</th>\n",
       "      <th>...</th>\n",
       "      <th>workingday_1</th>\n",
       "      <th>weekday_1</th>\n",
       "      <th>weekday_2</th>\n",
       "      <th>weekday_3</th>\n",
       "      <th>weekday_4</th>\n",
       "      <th>weekday_5</th>\n",
       "      <th>weekday_6</th>\n",
       "      <th>season_2</th>\n",
       "      <th>season_3</th>\n",
       "      <th>season_4</th>\n",
       "    </tr>\n",
       "  </thead>\n",
       "  <tbody>\n",
       "    <tr>\n",
       "      <th>0</th>\n",
       "      <td>0.750000</td>\n",
       "      <td>0.386364</td>\n",
       "      <td>0.3500</td>\n",
       "      <td>0.010004</td>\n",
       "      <td>0.0</td>\n",
       "      <td>0.0</td>\n",
       "      <td>0.0</td>\n",
       "      <td>0.0</td>\n",
       "      <td>0.0</td>\n",
       "      <td>0.0</td>\n",
       "      <td>...</td>\n",
       "      <td>1.0</td>\n",
       "      <td>0.0</td>\n",
       "      <td>0.0</td>\n",
       "      <td>0.0</td>\n",
       "      <td>0.0</td>\n",
       "      <td>0.0</td>\n",
       "      <td>0.0</td>\n",
       "      <td>0.0</td>\n",
       "      <td>1.0</td>\n",
       "      <td>0.0</td>\n",
       "    </tr>\n",
       "    <tr>\n",
       "      <th>1</th>\n",
       "      <td>0.681818</td>\n",
       "      <td>0.227273</td>\n",
       "      <td>0.4125</td>\n",
       "      <td>0.015871</td>\n",
       "      <td>0.0</td>\n",
       "      <td>0.0</td>\n",
       "      <td>0.0</td>\n",
       "      <td>0.0</td>\n",
       "      <td>0.0</td>\n",
       "      <td>0.0</td>\n",
       "      <td>...</td>\n",
       "      <td>1.0</td>\n",
       "      <td>1.0</td>\n",
       "      <td>0.0</td>\n",
       "      <td>0.0</td>\n",
       "      <td>0.0</td>\n",
       "      <td>0.0</td>\n",
       "      <td>0.0</td>\n",
       "      <td>0.0</td>\n",
       "      <td>1.0</td>\n",
       "      <td>0.0</td>\n",
       "    </tr>\n",
       "    <tr>\n",
       "      <th>2</th>\n",
       "      <td>0.818182</td>\n",
       "      <td>0.340909</td>\n",
       "      <td>0.5125</td>\n",
       "      <td>0.018647</td>\n",
       "      <td>0.0</td>\n",
       "      <td>0.0</td>\n",
       "      <td>0.0</td>\n",
       "      <td>0.0</td>\n",
       "      <td>0.0</td>\n",
       "      <td>0.0</td>\n",
       "      <td>...</td>\n",
       "      <td>1.0</td>\n",
       "      <td>0.0</td>\n",
       "      <td>1.0</td>\n",
       "      <td>0.0</td>\n",
       "      <td>0.0</td>\n",
       "      <td>0.0</td>\n",
       "      <td>0.0</td>\n",
       "      <td>0.0</td>\n",
       "      <td>1.0</td>\n",
       "      <td>0.0</td>\n",
       "    </tr>\n",
       "    <tr>\n",
       "      <th>3</th>\n",
       "      <td>0.840909</td>\n",
       "      <td>0.181818</td>\n",
       "      <td>0.5625</td>\n",
       "      <td>0.018437</td>\n",
       "      <td>0.0</td>\n",
       "      <td>0.0</td>\n",
       "      <td>0.0</td>\n",
       "      <td>0.0</td>\n",
       "      <td>0.0</td>\n",
       "      <td>0.0</td>\n",
       "      <td>...</td>\n",
       "      <td>1.0</td>\n",
       "      <td>0.0</td>\n",
       "      <td>0.0</td>\n",
       "      <td>1.0</td>\n",
       "      <td>0.0</td>\n",
       "      <td>0.0</td>\n",
       "      <td>0.0</td>\n",
       "      <td>0.0</td>\n",
       "      <td>1.0</td>\n",
       "      <td>0.0</td>\n",
       "    </tr>\n",
       "    <tr>\n",
       "      <th>4</th>\n",
       "      <td>0.886364</td>\n",
       "      <td>0.340909</td>\n",
       "      <td>0.5125</td>\n",
       "      <td>0.017861</td>\n",
       "      <td>0.0</td>\n",
       "      <td>0.0</td>\n",
       "      <td>0.0</td>\n",
       "      <td>0.0</td>\n",
       "      <td>0.0</td>\n",
       "      <td>0.0</td>\n",
       "      <td>...</td>\n",
       "      <td>1.0</td>\n",
       "      <td>0.0</td>\n",
       "      <td>0.0</td>\n",
       "      <td>0.0</td>\n",
       "      <td>1.0</td>\n",
       "      <td>0.0</td>\n",
       "      <td>0.0</td>\n",
       "      <td>0.0</td>\n",
       "      <td>1.0</td>\n",
       "      <td>0.0</td>\n",
       "    </tr>\n",
       "  </tbody>\n",
       "</table>\n",
       "<p>5 rows × 35 columns</p>\n",
       "</div>"
      ],
      "text/plain": [
       "   temperature  windspeed  humidity     total  month_2  month_3  month_4  \\\n",
       "0     0.750000   0.386364    0.3500  0.010004      0.0      0.0      0.0   \n",
       "1     0.681818   0.227273    0.4125  0.015871      0.0      0.0      0.0   \n",
       "2     0.818182   0.340909    0.5125  0.018647      0.0      0.0      0.0   \n",
       "3     0.840909   0.181818    0.5625  0.018437      0.0      0.0      0.0   \n",
       "4     0.886364   0.340909    0.5125  0.017861      0.0      0.0      0.0   \n",
       "\n",
       "   month_5  month_6  month_7  ...  workingday_1  weekday_1  weekday_2  \\\n",
       "0      0.0      0.0      0.0  ...           1.0        0.0        0.0   \n",
       "1      0.0      0.0      0.0  ...           1.0        1.0        0.0   \n",
       "2      0.0      0.0      0.0  ...           1.0        0.0        1.0   \n",
       "3      0.0      0.0      0.0  ...           1.0        0.0        0.0   \n",
       "4      0.0      0.0      0.0  ...           1.0        0.0        0.0   \n",
       "\n",
       "   weekday_3  weekday_4  weekday_5  weekday_6  season_2  season_3  season_4  \n",
       "0        0.0        0.0        0.0        0.0       0.0       1.0       0.0  \n",
       "1        0.0        0.0        0.0        0.0       0.0       1.0       0.0  \n",
       "2        0.0        0.0        0.0        0.0       0.0       1.0       0.0  \n",
       "3        1.0        0.0        0.0        0.0       0.0       1.0       0.0  \n",
       "4        0.0        1.0        0.0        0.0       0.0       1.0       0.0  \n",
       "\n",
       "[5 rows x 35 columns]"
      ]
     },
     "execution_count": 56,
     "metadata": {},
     "output_type": "execute_result"
    }
   ],
   "source": [
    "# scalling temp, windspeed, humidity\n",
    "# dfsc = dfpp[['temperature', 'windspeed', 'humidity']]\n",
    "\n",
    "from sklearn.preprocessing import MinMaxScaler\n",
    "\n",
    "scaler = MinMaxScaler()\n",
    "scaled = scaler.fit_transform(dfpp.drop('date', axis=1))\n",
    "\n",
    "dfpp_sc = pd.DataFrame(scaled, columns=dfpp.columns[1:])\n",
    "dfpp_sc.head()"
   ]
  },
  {
   "cell_type": "code",
   "execution_count": 54,
   "metadata": {
    "ExecuteTime": {
     "end_time": "2019-11-13T15:24:31.843722Z",
     "start_time": "2019-11-13T15:24:31.839746Z"
    }
   },
   "outputs": [
    {
     "data": {
      "text/plain": [
       "Index(['temperature', 'windspeed', 'humidity', 'total', 'month_2', 'month_3',\n",
       "       'month_4', 'month_5', 'month_6', 'month_7', 'month_8', 'month_9',\n",
       "       'month_10', 'month_11', 'month_12', 'year_2011', 'year_2012',\n",
       "       'year_2013', 'year_2014', 'year_2015', 'year_2016', 'year_2017',\n",
       "       'year_2018', 'year_2019', 'holiday_1', 'workingday_1', 'weekday_1',\n",
       "       'weekday_2', 'weekday_3', 'weekday_4', 'weekday_5', 'weekday_6',\n",
       "       'season_2', 'season_3', 'season_4'],\n",
       "      dtype='object')"
      ]
     },
     "execution_count": 54,
     "metadata": {},
     "output_type": "execute_result"
    }
   ],
   "source": []
  },
  {
   "cell_type": "code",
   "execution_count": 13,
   "metadata": {
    "ExecuteTime": {
     "end_time": "2019-11-13T14:56:46.001692Z",
     "start_time": "2019-11-13T14:56:45.996676Z"
    }
   },
   "outputs": [
    {
     "data": {
      "text/plain": [
       "Index(['date', 'temperature', 'windspeed', 'humidity', 'total', 'month_2',\n",
       "       'month_3', 'month_4', 'month_5', 'month_6', 'month_7', 'month_8',\n",
       "       'month_9', 'month_10', 'month_11', 'month_12', 'year_2011', 'year_2012',\n",
       "       'year_2013', 'year_2014', 'year_2015', 'year_2016', 'year_2017',\n",
       "       'year_2018', 'year_2019', 'holiday_1', 'workingday_1', 'weekday_1',\n",
       "       'weekday_2', 'weekday_3', 'weekday_4', 'weekday_5', 'weekday_6',\n",
       "       'season_2', 'season_3', 'season_4'],\n",
       "      dtype='object')"
      ]
     },
     "execution_count": 13,
     "metadata": {},
     "output_type": "execute_result"
    }
   ],
   "source": [
    "dfpp.columns"
   ]
  },
  {
   "cell_type": "code",
   "execution_count": 14,
   "metadata": {
    "ExecuteTime": {
     "end_time": "2019-11-13T14:56:48.354200Z",
     "start_time": "2019-11-13T14:56:48.349226Z"
    }
   },
   "outputs": [],
   "source": [
    "dfx = dfpp.drop(['total', 'date'], axis=1)\n",
    "dfy = dfpp['total']"
   ]
  },
  {
   "cell_type": "code",
   "execution_count": 57,
   "metadata": {
    "ExecuteTime": {
     "end_time": "2019-11-13T15:25:43.625736Z",
     "start_time": "2019-11-13T15:25:43.622734Z"
    }
   },
   "outputs": [],
   "source": [
    "dfx = dfpp_sc.drop(['total'], axis=1)\n",
    "dfy = dfpp['total']"
   ]
  },
  {
   "cell_type": "code",
   "execution_count": 41,
   "metadata": {
    "ExecuteTime": {
     "end_time": "2019-11-13T15:05:14.685484Z",
     "start_time": "2019-11-13T15:05:14.682502Z"
    }
   },
   "outputs": [],
   "source": [
    "dfn = df.copy()"
   ]
  },
  {
   "cell_type": "code",
   "execution_count": 42,
   "metadata": {
    "ExecuteTime": {
     "end_time": "2019-11-13T15:05:42.350583Z",
     "start_time": "2019-11-13T15:05:42.345567Z"
    }
   },
   "outputs": [],
   "source": [
    "dfx = dfn.drop(['total', 'date', 'casual', 'member'], axis=1)\n",
    "dfy = dfn['total']"
   ]
  },
  {
   "cell_type": "markdown",
   "metadata": {},
   "source": [
    "#### splitting"
   ]
  },
  {
   "cell_type": "code",
   "execution_count": 68,
   "metadata": {
    "ExecuteTime": {
     "end_time": "2019-11-13T15:38:20.668331Z",
     "start_time": "2019-11-13T15:38:20.660332Z"
    }
   },
   "outputs": [],
   "source": [
    "from sklearn.model_selection import train_test_split, GridSearchCV\n",
    "from sklearn.metrics import mean_squared_error, r2_score, mean_absolute_error, accuracy_score\n",
    "from math import sqrt\n",
    "\n",
    "x_train,x_test,y_train,y_test = train_test_split(dfx, dfy, test_size= 0.2, random_state = 10)"
   ]
  },
  {
   "cell_type": "code",
   "execution_count": 40,
   "metadata": {
    "ExecuteTime": {
     "end_time": "2019-11-13T15:04:01.423631Z",
     "start_time": "2019-11-13T15:04:01.419624Z"
    }
   },
   "outputs": [
    {
     "data": {
      "text/plain": [
       "664"
      ]
     },
     "execution_count": 40,
     "metadata": {},
     "output_type": "execute_result"
    }
   ],
   "source": [
    "len(y_test)"
   ]
  },
  {
   "cell_type": "code",
   "execution_count": null,
   "metadata": {},
   "outputs": [],
   "source": []
  },
  {
   "cell_type": "markdown",
   "metadata": {},
   "source": [
    "#### linear regression"
   ]
  },
  {
   "cell_type": "code",
   "execution_count": 59,
   "metadata": {
    "ExecuteTime": {
     "end_time": "2019-11-13T15:25:47.970680Z",
     "start_time": "2019-11-13T15:25:47.959681Z"
    }
   },
   "outputs": [
    {
     "name": "stdout",
     "output_type": "stream",
     "text": [
      "Test\n",
      "MAE: 1216.74\n",
      "MSE: 2586465.46\n",
      "RMSE: 1608.25\n",
      "\n",
      "Train\n",
      "MAE: 1277.03\n",
      "MSE: 2814584.57\n",
      "RMSE: 1677.67\n"
     ]
    }
   ],
   "source": [
    "from sklearn import linear_model\n",
    "model_lr = linear_model.LinearRegression()\n",
    "model_lr.fit(x_train, y_train)\n",
    "\n",
    "pred = model_lr.predict(x_test)\n",
    "print('Test')\n",
    "print('MAE: %.2f' % mean_absolute_error(y_test, pred))\n",
    "print('MSE: %.2f' % mean_squared_error(y_test, pred))\n",
    "print('RMSE: %.2f' % sqrt(mean_squared_error(y_test, pred)))\n",
    "\n",
    "pred2 = model_lr.predict(x_train)\n",
    "print('\\nTrain')\n",
    "print('MAE: %.2f' % mean_absolute_error(y_train, pred2))\n",
    "print('MSE: %.2f' % mean_squared_error(y_train, pred2))\n",
    "print('RMSE: %.2f' % sqrt(mean_squared_error(y_train, pred2)))"
   ]
  },
  {
   "cell_type": "code",
   "execution_count": null,
   "metadata": {},
   "outputs": [],
   "source": []
  },
  {
   "cell_type": "code",
   "execution_count": null,
   "metadata": {},
   "outputs": [],
   "source": []
  },
  {
   "cell_type": "markdown",
   "metadata": {},
   "source": [
    "#### lasso regression"
   ]
  },
  {
   "cell_type": "code",
   "execution_count": 60,
   "metadata": {
    "ExecuteTime": {
     "end_time": "2019-11-13T15:25:49.825132Z",
     "start_time": "2019-11-13T15:25:49.807134Z"
    }
   },
   "outputs": [
    {
     "name": "stdout",
     "output_type": "stream",
     "text": [
      "Test\n",
      "MAE: 1217.07\n",
      "MSE: 2585942.71\n",
      "RMSE: 1608.09\n",
      "\n",
      "Train\n",
      "MAE: 1277.88\n",
      "MSE: 2818331.60\n",
      "RMSE: 1678.79\n"
     ]
    }
   ],
   "source": [
    "model_lg = linear_model.Lasso()\n",
    "model_lg.fit(x_train, y_train)\n",
    "\n",
    "pred = model_lg.predict(x_test)\n",
    "print('Test')\n",
    "print('MAE: %.2f' % mean_absolute_error(y_test, pred))\n",
    "print('MSE: %.2f' % mean_squared_error(y_test, pred))\n",
    "print('RMSE: %.2f' % sqrt(mean_squared_error(y_test, pred)))\n",
    "\n",
    "pred2 = model_lg.predict(x_train)\n",
    "print('\\nTrain')\n",
    "print('MAE: %.2f' % mean_absolute_error(y_train, pred2))\n",
    "print('MSE: %.2f' % mean_squared_error(y_train, pred2))\n",
    "print('RMSE: %.2f' % sqrt(mean_squared_error(y_train, pred2)))"
   ]
  },
  {
   "cell_type": "code",
   "execution_count": 72,
   "metadata": {
    "ExecuteTime": {
     "end_time": "2019-11-13T15:43:15.707891Z",
     "start_time": "2019-11-13T15:43:13.923385Z"
    }
   },
   "outputs": [
    {
     "data": {
      "text/plain": [
       "GridSearchCV(cv=10, error_score='raise-deprecating',\n",
       "             estimator=Lasso(alpha=1.0, copy_X=True, fit_intercept=True,\n",
       "                             max_iter=1000, normalize=False, positive=False,\n",
       "                             precompute=False, random_state=None,\n",
       "                             selection='cyclic', tol=0.0001, warm_start=False),\n",
       "             iid='warn', n_jobs=None,\n",
       "             param_grid=[{'alpha': [1.0, 0.0, 0.1, 0.01, 0.001]}],\n",
       "             pre_dispatch='2*n_jobs', refit=True, return_train_score=False,\n",
       "             scoring=None, verbose=0)"
      ]
     },
     "execution_count": 72,
     "metadata": {},
     "output_type": "execute_result"
    }
   ],
   "source": [
    "param_grid = [{'alpha':[1.0,0.0,0.1,0.01,0.001]}]\n",
    "lg_grid = GridSearchCV(model_lg, param_grid, cv=10)\n",
    "\n",
    "lg_grid.fit(x_train, y_train)"
   ]
  },
  {
   "cell_type": "code",
   "execution_count": 73,
   "metadata": {
    "ExecuteTime": {
     "end_time": "2019-11-13T15:43:21.111659Z",
     "start_time": "2019-11-13T15:43:21.107650Z"
    }
   },
   "outputs": [
    {
     "data": {
      "text/plain": [
       "Lasso(alpha=0.1, copy_X=True, fit_intercept=True, max_iter=1000,\n",
       "      normalize=False, positive=False, precompute=False, random_state=None,\n",
       "      selection='cyclic', tol=0.0001, warm_start=False)"
      ]
     },
     "execution_count": 73,
     "metadata": {},
     "output_type": "execute_result"
    }
   ],
   "source": [
    "lg_grid.best_estimator_"
   ]
  },
  {
   "cell_type": "code",
   "execution_count": 74,
   "metadata": {
    "ExecuteTime": {
     "end_time": "2019-11-13T15:43:42.170683Z",
     "start_time": "2019-11-13T15:43:42.131685Z"
    }
   },
   "outputs": [
    {
     "name": "stdout",
     "output_type": "stream",
     "text": [
      "Test\n",
      "MAE: 1216.63\n",
      "MSE: 2585748.94\n",
      "RMSE: 1608.03\n",
      "\n",
      "Train\n",
      "MAE: 1277.04\n",
      "MSE: 2814605.77\n",
      "RMSE: 1677.68\n"
     ]
    }
   ],
   "source": [
    "model_lg = linear_model.Lasso(alpha=0.1, copy_X=True, fit_intercept=True, max_iter=1000,\n",
    "      normalize=False, positive=False, precompute=False, random_state=None,\n",
    "      selection='cyclic', tol=0.0001, warm_start=False)\n",
    "model_lg.fit(x_train, y_train)\n",
    "\n",
    "pred = model_lg.predict(x_test)\n",
    "print('Test')\n",
    "print('MAE: %.2f' % mean_absolute_error(y_test, pred))\n",
    "print('MSE: %.2f' % mean_squared_error(y_test, pred))\n",
    "print('RMSE: %.2f' % sqrt(mean_squared_error(y_test, pred)))\n",
    "\n",
    "pred2 = model_lg.predict(x_train)\n",
    "print('\\nTrain')\n",
    "print('MAE: %.2f' % mean_absolute_error(y_train, pred2))\n",
    "print('MSE: %.2f' % mean_squared_error(y_train, pred2))\n",
    "print('RMSE: %.2f' % sqrt(mean_squared_error(y_train, pred2)))"
   ]
  },
  {
   "cell_type": "code",
   "execution_count": 79,
   "metadata": {
    "ExecuteTime": {
     "end_time": "2019-11-13T15:46:39.177553Z",
     "start_time": "2019-11-13T15:46:39.163553Z"
    }
   },
   "outputs": [
    {
     "ename": "ValueError",
     "evalue": "shapes (1,4) and (34,) not aligned: 4 (dim 1) != 34 (dim 0)",
     "output_type": "error",
     "traceback": [
      "\u001b[1;31m---------------------------------------------------------------------------\u001b[0m",
      "\u001b[1;31mValueError\u001b[0m                                Traceback (most recent call last)",
      "\u001b[1;32m<ipython-input-79-4dff83e24a21>\u001b[0m in \u001b[0;36m<module>\u001b[1;34m\u001b[0m\n\u001b[1;32m----> 1\u001b[1;33m \u001b[0mmodel_lg\u001b[0m\u001b[1;33m.\u001b[0m\u001b[0mpredict\u001b[0m\u001b[1;33m(\u001b[0m\u001b[0mnp\u001b[0m\u001b[1;33m.\u001b[0m\u001b[0marray\u001b[0m\u001b[1;33m(\u001b[0m\u001b[1;33m[\u001b[0m\u001b[1;36m1\u001b[0m\u001b[1;33m,\u001b[0m\u001b[1;36m12\u001b[0m\u001b[1;33m,\u001b[0m\u001b[1;36m23\u001b[0m\u001b[1;33m,\u001b[0m\u001b[1;36m12\u001b[0m\u001b[1;33m]\u001b[0m\u001b[1;33m)\u001b[0m\u001b[1;33m.\u001b[0m\u001b[0mreshape\u001b[0m\u001b[1;33m(\u001b[0m\u001b[1;36m1\u001b[0m\u001b[1;33m,\u001b[0m \u001b[1;33m-\u001b[0m\u001b[1;36m1\u001b[0m\u001b[1;33m)\u001b[0m\u001b[1;33m)\u001b[0m\u001b[1;33m\u001b[0m\u001b[1;33m\u001b[0m\u001b[0m\n\u001b[0m",
      "\u001b[1;32m~\\Anaconda3\\lib\\site-packages\\sklearn\\linear_model\\base.py\u001b[0m in \u001b[0;36mpredict\u001b[1;34m(self, X)\u001b[0m\n\u001b[0;32m    219\u001b[0m             \u001b[0mReturns\u001b[0m \u001b[0mpredicted\u001b[0m \u001b[0mvalues\u001b[0m\u001b[1;33m.\u001b[0m\u001b[1;33m\u001b[0m\u001b[1;33m\u001b[0m\u001b[0m\n\u001b[0;32m    220\u001b[0m         \"\"\"\n\u001b[1;32m--> 221\u001b[1;33m         \u001b[1;32mreturn\u001b[0m \u001b[0mself\u001b[0m\u001b[1;33m.\u001b[0m\u001b[0m_decision_function\u001b[0m\u001b[1;33m(\u001b[0m\u001b[0mX\u001b[0m\u001b[1;33m)\u001b[0m\u001b[1;33m\u001b[0m\u001b[1;33m\u001b[0m\u001b[0m\n\u001b[0m\u001b[0;32m    222\u001b[0m \u001b[1;33m\u001b[0m\u001b[0m\n\u001b[0;32m    223\u001b[0m     \u001b[0m_preprocess_data\u001b[0m \u001b[1;33m=\u001b[0m \u001b[0mstaticmethod\u001b[0m\u001b[1;33m(\u001b[0m\u001b[0m_preprocess_data\u001b[0m\u001b[1;33m)\u001b[0m\u001b[1;33m\u001b[0m\u001b[1;33m\u001b[0m\u001b[0m\n",
      "\u001b[1;32m~\\Anaconda3\\lib\\site-packages\\sklearn\\linear_model\\coordinate_descent.py\u001b[0m in \u001b[0;36m_decision_function\u001b[1;34m(self, X)\u001b[0m\n\u001b[0;32m    793\u001b[0m                                    dense_output=True) + self.intercept_\n\u001b[0;32m    794\u001b[0m         \u001b[1;32melse\u001b[0m\u001b[1;33m:\u001b[0m\u001b[1;33m\u001b[0m\u001b[1;33m\u001b[0m\u001b[0m\n\u001b[1;32m--> 795\u001b[1;33m             \u001b[1;32mreturn\u001b[0m \u001b[0msuper\u001b[0m\u001b[1;33m(\u001b[0m\u001b[1;33m)\u001b[0m\u001b[1;33m.\u001b[0m\u001b[0m_decision_function\u001b[0m\u001b[1;33m(\u001b[0m\u001b[0mX\u001b[0m\u001b[1;33m)\u001b[0m\u001b[1;33m\u001b[0m\u001b[1;33m\u001b[0m\u001b[0m\n\u001b[0m\u001b[0;32m    796\u001b[0m \u001b[1;33m\u001b[0m\u001b[0m\n\u001b[0;32m    797\u001b[0m \u001b[1;33m\u001b[0m\u001b[0m\n",
      "\u001b[1;32m~\\Anaconda3\\lib\\site-packages\\sklearn\\linear_model\\base.py\u001b[0m in \u001b[0;36m_decision_function\u001b[1;34m(self, X)\u001b[0m\n\u001b[0;32m    204\u001b[0m         \u001b[0mX\u001b[0m \u001b[1;33m=\u001b[0m \u001b[0mcheck_array\u001b[0m\u001b[1;33m(\u001b[0m\u001b[0mX\u001b[0m\u001b[1;33m,\u001b[0m \u001b[0maccept_sparse\u001b[0m\u001b[1;33m=\u001b[0m\u001b[1;33m[\u001b[0m\u001b[1;34m'csr'\u001b[0m\u001b[1;33m,\u001b[0m \u001b[1;34m'csc'\u001b[0m\u001b[1;33m,\u001b[0m \u001b[1;34m'coo'\u001b[0m\u001b[1;33m]\u001b[0m\u001b[1;33m)\u001b[0m\u001b[1;33m\u001b[0m\u001b[1;33m\u001b[0m\u001b[0m\n\u001b[0;32m    205\u001b[0m         return safe_sparse_dot(X, self.coef_.T,\n\u001b[1;32m--> 206\u001b[1;33m                                dense_output=True) + self.intercept_\n\u001b[0m\u001b[0;32m    207\u001b[0m \u001b[1;33m\u001b[0m\u001b[0m\n\u001b[0;32m    208\u001b[0m     \u001b[1;32mdef\u001b[0m \u001b[0mpredict\u001b[0m\u001b[1;33m(\u001b[0m\u001b[0mself\u001b[0m\u001b[1;33m,\u001b[0m \u001b[0mX\u001b[0m\u001b[1;33m)\u001b[0m\u001b[1;33m:\u001b[0m\u001b[1;33m\u001b[0m\u001b[1;33m\u001b[0m\u001b[0m\n",
      "\u001b[1;32m~\\Anaconda3\\lib\\site-packages\\sklearn\\utils\\extmath.py\u001b[0m in \u001b[0;36msafe_sparse_dot\u001b[1;34m(a, b, dense_output)\u001b[0m\n\u001b[0;32m    140\u001b[0m         \u001b[1;32mreturn\u001b[0m \u001b[0mret\u001b[0m\u001b[1;33m\u001b[0m\u001b[1;33m\u001b[0m\u001b[0m\n\u001b[0;32m    141\u001b[0m     \u001b[1;32melse\u001b[0m\u001b[1;33m:\u001b[0m\u001b[1;33m\u001b[0m\u001b[1;33m\u001b[0m\u001b[0m\n\u001b[1;32m--> 142\u001b[1;33m         \u001b[1;32mreturn\u001b[0m \u001b[0mnp\u001b[0m\u001b[1;33m.\u001b[0m\u001b[0mdot\u001b[0m\u001b[1;33m(\u001b[0m\u001b[0ma\u001b[0m\u001b[1;33m,\u001b[0m \u001b[0mb\u001b[0m\u001b[1;33m)\u001b[0m\u001b[1;33m\u001b[0m\u001b[1;33m\u001b[0m\u001b[0m\n\u001b[0m\u001b[0;32m    143\u001b[0m \u001b[1;33m\u001b[0m\u001b[0m\n\u001b[0;32m    144\u001b[0m \u001b[1;33m\u001b[0m\u001b[0m\n",
      "\u001b[1;32m<__array_function__ internals>\u001b[0m in \u001b[0;36mdot\u001b[1;34m(*args, **kwargs)\u001b[0m\n",
      "\u001b[1;31mValueError\u001b[0m: shapes (1,4) and (34,) not aligned: 4 (dim 1) != 34 (dim 0)"
     ]
    }
   ],
   "source": [
    "model_lg.predict(np.array([1,12,23,12]).reshape(1, -1))"
   ]
  },
  {
   "cell_type": "code",
   "execution_count": null,
   "metadata": {},
   "outputs": [],
   "source": []
  },
  {
   "cell_type": "markdown",
   "metadata": {},
   "source": [
    "#### ridge regression"
   ]
  },
  {
   "cell_type": "code",
   "execution_count": 61,
   "metadata": {
    "ExecuteTime": {
     "end_time": "2019-11-13T15:25:53.108117Z",
     "start_time": "2019-11-13T15:25:53.095119Z"
    }
   },
   "outputs": [
    {
     "name": "stdout",
     "output_type": "stream",
     "text": [
      "Test\n",
      "MAE: 1221.75\n",
      "MSE: 2605436.74\n",
      "RMSE: 1614.14\n",
      "\n",
      "Train\n",
      "MAE: 1279.39\n",
      "MSE: 2829664.78\n",
      "RMSE: 1682.16\n"
     ]
    }
   ],
   "source": [
    "model_rg = linear_model.Ridge()\n",
    "model_rg.fit(x_train, y_train)\n",
    "\n",
    "pred = model_rg.predict(x_test)\n",
    "print('Test')\n",
    "print('MAE: %.2f' % mean_absolute_error(y_test, pred))\n",
    "print('MSE: %.2f' % mean_squared_error(y_test, pred))\n",
    "print('RMSE: %.2f' % sqrt(mean_squared_error(y_test, pred)))\n",
    "\n",
    "pred2 = model_rg.predict(x_train)\n",
    "print('\\nTrain')\n",
    "print('MAE: %.2f' % mean_absolute_error(y_train, pred2))\n",
    "print('MSE: %.2f' % mean_squared_error(y_train, pred2))\n",
    "print('RMSE: %.2f' % sqrt(mean_squared_error(y_train, pred2)))"
   ]
  },
  {
   "cell_type": "code",
   "execution_count": null,
   "metadata": {},
   "outputs": [],
   "source": []
  },
  {
   "cell_type": "code",
   "execution_count": null,
   "metadata": {},
   "outputs": [],
   "source": []
  },
  {
   "cell_type": "markdown",
   "metadata": {},
   "source": [
    "#### KNN"
   ]
  },
  {
   "cell_type": "code",
   "execution_count": 20,
   "metadata": {
    "ExecuteTime": {
     "end_time": "2019-11-13T14:57:19.544349Z",
     "start_time": "2019-11-13T14:57:19.540371Z"
    }
   },
   "outputs": [],
   "source": [
    "def nNeigbors():\n",
    "    x = round(len(dfpp)**.5)\n",
    "    if x % 2 == 0:\n",
    "        return x + 1\n",
    "    else:\n",
    "        return x"
   ]
  },
  {
   "cell_type": "code",
   "execution_count": 67,
   "metadata": {
    "ExecuteTime": {
     "end_time": "2019-11-13T15:32:32.703409Z",
     "start_time": "2019-11-13T15:32:32.214385Z"
    }
   },
   "outputs": [
    {
     "name": "stdout",
     "output_type": "stream",
     "text": [
      "Test\n",
      "MAE: 5445.31\n",
      "MSE: 42174426.12\n",
      "RMSE: 6494.18\n",
      "0.0\n",
      "\n",
      "Train\n",
      "MAE: 5492.68\n",
      "MSE: 43758790.35\n",
      "RMSE: 6615.04\n"
     ]
    }
   ],
   "source": [
    "from sklearn.neighbors import KNeighborsClassifier\n",
    "modelK = KNeighborsClassifier(n_neighbors=nNeigbors())\n",
    "modelK.fit(x_train,y_train)\n",
    "\n",
    "pred = modelK.predict(x_test)\n",
    "print('Test')\n",
    "print('MAE: %.2f' % mean_absolute_error(y_test, pred))\n",
    "print('MSE: %.2f' % mean_squared_error(y_test, pred))\n",
    "print('RMSE: %.2f' % sqrt(mean_squared_error(y_test, pred)))\n",
    "\n",
    "pred2 = modelK.predict(x_train)\n",
    "print('\\nTrain')\n",
    "print('MAE: %.2f' % mean_absolute_error(y_train, pred2))\n",
    "print('MSE: %.2f' % mean_squared_error(y_train, pred2))\n",
    "print('RMSE: %.2f' % sqrt(mean_squared_error(y_train, pred2)))"
   ]
  },
  {
   "cell_type": "code",
   "execution_count": 36,
   "metadata": {
    "ExecuteTime": {
     "end_time": "2019-11-13T15:03:32.672350Z",
     "start_time": "2019-11-13T15:03:32.667351Z"
    }
   },
   "outputs": [
    {
     "data": {
      "text/plain": [
       "3318"
      ]
     },
     "execution_count": 36,
     "metadata": {},
     "output_type": "execute_result"
    }
   ],
   "source": []
  },
  {
   "cell_type": "markdown",
   "metadata": {},
   "source": [
    "Dengan hanya melihat besaran RMSE, saya langsung memilih KNN. Kemudian selanjutnya akan diuji lebih lanjut pada notebook predicting"
   ]
  },
  {
   "cell_type": "code",
   "execution_count": null,
   "metadata": {},
   "outputs": [],
   "source": []
  }
 ],
 "metadata": {
  "kernelspec": {
   "display_name": "Python 3",
   "language": "python",
   "name": "python3"
  },
  "language_info": {
   "codemirror_mode": {
    "name": "ipython",
    "version": 3
   },
   "file_extension": ".py",
   "mimetype": "text/x-python",
   "name": "python",
   "nbconvert_exporter": "python",
   "pygments_lexer": "ipython3",
   "version": "3.7.5"
  },
  "varInspector": {
   "cols": {
    "lenName": 16,
    "lenType": 16,
    "lenVar": 40
   },
   "kernels_config": {
    "python": {
     "delete_cmd_postfix": "",
     "delete_cmd_prefix": "del ",
     "library": "var_list.py",
     "varRefreshCmd": "print(var_dic_list())"
    },
    "r": {
     "delete_cmd_postfix": ") ",
     "delete_cmd_prefix": "rm(",
     "library": "var_list.r",
     "varRefreshCmd": "cat(var_dic_list()) "
    }
   },
   "types_to_exclude": [
    "module",
    "function",
    "builtin_function_or_method",
    "instance",
    "_Feature"
   ],
   "window_display": false
  }
 },
 "nbformat": 4,
 "nbformat_minor": 2
}
